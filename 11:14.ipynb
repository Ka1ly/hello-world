{
 "cells": [
  {
   "cell_type": "code",
   "execution_count": null,
   "id": "3bb6c265-bf87-45a9-b122-c49ae06344b2",
   "metadata": {},
   "outputs": [],
   "source": [
    "1.) one purpose for github is for users to store code and allow others to see \n",
    "their code as well\n",
    "2.) version control is a system which allows users to keep track of their changes\n",
    "to their code over time. this is beneficial in our project because we do not lose\n",
    "our work and it allows users to try different methods without losing track \n",
    "3.) github allows you to make branches and different users can make different\n",
    "branches with code and it gives you the ability to merge "
   ]
  }
 ],
 "metadata": {
  "kernelspec": {
   "display_name": "Python 3 (ipykernel)",
   "language": "python",
   "name": "python3"
  },
  "language_info": {
   "codemirror_mode": {
    "name": "ipython",
    "version": 3
   },
   "file_extension": ".py",
   "mimetype": "text/x-python",
   "name": "python",
   "nbconvert_exporter": "python",
   "pygments_lexer": "ipython3",
   "version": "3.12.5"
  }
 },
 "nbformat": 4,
 "nbformat_minor": 5
}
